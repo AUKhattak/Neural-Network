{
 "cells": [
  {
   "cell_type": "code",
   "execution_count": 1,
   "id": "78967744",
   "metadata": {},
   "outputs": [],
   "source": [
    "#%matplotlib inline\n",
    "import numpy as np\n",
    "import scipy, matplotlib.pyplot as plt, IPython.display as ipd\n",
    "import librosa, librosa.display\n",
    "\n",
    "import pandas as pd\n",
    "from sklearn  import preprocessing\n",
    "from collections import defaultdict, Counter\n",
    "# add this to ignore warnings from Librosa\n",
    "import warnings\n",
    "warnings.filterwarnings('ignore')"
   ]
  },
  {
   "cell_type": "code",
   "execution_count": 2,
   "id": "f696cfa9",
   "metadata": {},
   "outputs": [],
   "source": [
    "# for linear models \n",
    "from sklearn.linear_model import SGDClassifier\n",
    "from sklearn.preprocessing import StandardScaler\n",
    "from sklearn.metrics import accuracy_score\n",
    "from sklearn.metrics import plot_confusion_matrix\n",
    "from sklearn.metrics import classification_report\n",
    "from sklearn.metrics import confusion_matrix"
   ]
  },
  {
   "cell_type": "code",
   "execution_count": 3,
   "id": "93d3ba84",
   "metadata": {},
   "outputs": [],
   "source": [
    "from sklearn.neural_network import MLPClassifier"
   ]
  },
  {
   "cell_type": "code",
   "execution_count": 4,
   "id": "4d907082",
   "metadata": {},
   "outputs": [],
   "source": [
    "def extract_melspectrogram(signal, sr, num_mels):\n",
    "    \"\"\"\n",
    "    Given a time series speech signal (.wav), sampling rate (sr), \n",
    "    and the number of mel coefficients, return a mel-scaled \n",
    "    representation of the signal as numpy array.\n",
    "    \"\"\"\n",
    "    \n",
    "    mel_features = librosa.feature.melspectrogram(y=signal,\n",
    "        sr=sr,\n",
    "        n_fft=200, # with sampling rate = 8000, this corresponds to 25 ms\n",
    "        hop_length=80, # with sampling rate = 8000, this corresponds to 10 ms\n",
    "        n_mels=num_mels, # number of frequency bins, use either 13 or 39\n",
    "        fmin=50, # min frequency threshold\n",
    "        fmax=4000 # max frequency threshold, set to SAMPLING_RATE/2\n",
    "    )\n",
    "    \n",
    "    # for numerical stability added this line\n",
    "    mel_features = np.where(mel_features == 0, np.finfo(float).eps, mel_features)\n",
    "\n",
    "    # 20 * log10 to convert to log scale\n",
    "    log_mel_features = 20*np.log10(mel_features)\n",
    "\n",
    "    # feature scaling\n",
    "    scaled_log_mel_features = preprocessing.scale(log_mel_features, axis=1)\n",
    "    \n",
    "    return scaled_log_mel_features"
   ]
  },
  {
   "cell_type": "code",
   "execution_count": 5,
   "id": "ac4357f7",
   "metadata": {},
   "outputs": [],
   "source": [
    "def downsample_spectrogram(X, N):\n",
    "    \n",
    "    time_splits = np.array_split(X, N, axis=1)\n",
    "    pooled_splits = [np.mean(split, axis=1) for split in time_splits] \n",
    "    v = np.concatenate(pooled_splits)\n",
    "    return v"
   ]
  },
  {
   "cell_type": "code",
   "execution_count": 6,
   "id": "8b9abc31",
   "metadata": {},
   "outputs": [],
   "source": [
    "data = pd.read_csv('SDR_metadata.tsv', sep='\\t')\n",
    "train_data = data[data.split ==\"TRAIN\"]"
   ]
  },
  {
   "cell_type": "code",
   "execution_count": 7,
   "id": "2d6b22e2",
   "metadata": {},
   "outputs": [
    {
     "name": "stdout",
     "output_type": "stream",
     "text": [
      "{'TRAIN'}\n",
      "   Unnamed: 0    identifier  speaker  split  label  \\\n",
      "0           0     5_theo_23     theo  TRAIN      5   \n",
      "6           6   4_george_11   george  TRAIN      4   \n",
      "7           7   8_george_18   george  TRAIN      8   \n",
      "8           8   8_george_13   george  TRAIN      8   \n",
      "9           9  2_nicolas_16  nicolas  TRAIN      2   \n",
      "\n",
      "                           file  \n",
      "0     speech_data/5_theo_23.wav  \n",
      "6   speech_data/4_george_11.wav  \n",
      "7   speech_data/8_george_18.wav  \n",
      "8   speech_data/8_george_13.wav  \n",
      "9  speech_data/2_nicolas_16.wav  \n"
     ]
    }
   ],
   "source": [
    "print(set(train_data.split.values))\n",
    "print(train_data.head())"
   ]
  },
  {
   "cell_type": "code",
   "execution_count": 8,
   "id": "0de70aab",
   "metadata": {},
   "outputs": [],
   "source": [
    "def get_downsampled_data(df):\n",
    "    signals = df.file.values\n",
    "    labels = df.label.values\n",
    "    # This value details is given in TASK 1 parameter N <= 25\n",
    "    N=10   \n",
    "\n",
    "    signals1 = []\n",
    "    for file in df.file.values:\n",
    "        signal1, sr = librosa.load(file)\n",
    "        signals1.append(signal1)\n",
    "\n",
    "    return [downsample_spectrogram(extract_melspectrogram(s, sr=8000, num_mels=13), N) for s in signals1], labels\n"
   ]
  },
  {
   "cell_type": "code",
   "execution_count": 9,
   "id": "4916ac27",
   "metadata": {},
   "outputs": [],
   "source": [
    "# prepare data \n",
    "data = pd.read_csv('SDR_metadata.tsv', sep='\\t')\n",
    "\n",
    "train_data = data[data.split ==\"TRAIN\"]\n",
    "dev_data = data[data.split ==\"DEV\"]\n",
    "test_data = data[data.split ==\"TEST\"]\n",
    "\n",
    "downsampled_train, train_labels = get_downsampled_data(train_data)\n",
    "downsampled_dev, dev_labels = get_downsampled_data(dev_data)\n",
    "downsampled_test, test_labels= get_downsampled_data(test_data)"
   ]
  },
  {
   "cell_type": "code",
   "execution_count": 10,
   "id": "3284a8c4",
   "metadata": {},
   "outputs": [
    {
     "data": {
      "text/plain": [
       "SGDClassifier(eta0=1, learning_rate='constant', loss='perceptron', penalty=None)"
      ]
     },
     "execution_count": 10,
     "metadata": {},
     "output_type": "execute_result"
    }
   ],
   "source": [
    "##MLP Classifier with SGD training\n",
    "##The loss function as ‘perceptron’ is the linear loss used by the perceptron algorithm\n",
    "\n",
    "from sklearn.linear_model import SGDClassifier\n",
    "\n",
    "clf = SGDClassifier(loss=\"perceptron\", eta0=1, learning_rate=\"constant\", penalty=None)\n",
    "\n",
    "clf.fit(downsampled_train, train_labels)"
   ]
  },
  {
   "cell_type": "code",
   "execution_count": 11,
   "id": "f641e5d0",
   "metadata": {},
   "outputs": [
    {
     "name": "stdout",
     "output_type": "stream",
     "text": [
      "Accuracy on train set:  0.862\n",
      "Accuracy on dev set:  0.4084507042253521\n",
      "Accuracy on test set:  0.4274353876739563\n"
     ]
    }
   ],
   "source": [
    "accuracy = clf.score(downsampled_train, train_labels)\n",
    "print(\"Accuracy on train set: \", accuracy)\n",
    "\n",
    "accuracy = clf.score(downsampled_dev, dev_labels)\n",
    "print(\"Accuracy on dev set: \", accuracy)\n",
    "\n",
    "accuracy = clf.score(downsampled_test, test_labels)\n",
    "print(\"Accuracy on test set: \", accuracy)"
   ]
  },
  {
   "cell_type": "code",
   "execution_count": 12,
   "id": "e215256c",
   "metadata": {},
   "outputs": [
    {
     "name": "stdout",
     "output_type": "stream",
     "text": [
      "Accuracy on development set:  0.4084507042253521\n",
      "Accuracy on test set:  0.4274353876739563\n"
     ]
    }
   ],
   "source": [
    "from sklearn.metrics import accuracy_score\n",
    "\n",
    "dev_predictions = clf.predict(downsampled_dev)\n",
    "dev_accuracy = accuracy_score(dev_labels, dev_predictions)\n",
    "print(\"Accuracy on development set: \", dev_accuracy)\n",
    "\n",
    "test_predictions = clf.predict(downsampled_test)\n",
    "test_accuracy = accuracy_score(test_labels, test_predictions)\n",
    "print(\"Accuracy on test set: \", test_accuracy)"
   ]
  },
  {
   "cell_type": "code",
   "execution_count": 13,
   "id": "5727ca17",
   "metadata": {},
   "outputs": [
    {
     "name": "stdout",
     "output_type": "stream",
     "text": [
      "Confusion matrix on development set: \n",
      "\n"
     ]
    },
    {
     "data": {
      "image/png": "[encoded data removed]",
      "text/plain": [
       "<Figure size 432x288 with 2 Axes>"
      ]
     },
     "metadata": {
      "needs_background": "light"
     },
     "output_type": "display_data"
    },
    {
     "name": "stdout",
     "output_type": "stream",
     "text": [
      "Confusion matrix on test set: \n",
      "\n"
     ]
    },
    {
     "data": {
      "image/png": "[encoded data removed]",
      "text/plain": [
       "<Figure size 432x288 with 2 Axes>"
      ]
     },
     "metadata": {
      "needs_background": "light"
     },
     "output_type": "display_data"
    }
   ],
   "source": [
    "from sklearn.metrics import confusion_matrix\n",
    "import seaborn as sns\n",
    "\n",
    "dev_confusion_matrix = confusion_matrix(dev_labels, dev_predictions)\n",
    "print(\"Confusion matrix on development set: \\n\")\n",
    "cm = confusion_matrix(dev_labels, dev_predictions)\n",
    "sns.heatmap(cm, annot=True, fmt='d')\n",
    "plt.xlabel('Predicted label')\n",
    "plt.ylabel('True label')\n",
    "plt.show()\n",
    "\n",
    "\n",
    "test_confusion_matrix = confusion_matrix(test_labels, test_predictions)\n",
    "print(\"Confusion matrix on test set: \\n\")\n",
    "cm = confusion_matrix(test_labels, test_predictions)\n",
    "sns.heatmap(cm, annot=True, fmt='d')\n",
    "plt.xlabel('Predicted label')\n",
    "plt.ylabel('True label')\n",
    "plt.show()"
   ]
  },
  {
   "cell_type": "code",
   "execution_count": 14,
   "id": "07d99755",
   "metadata": {},
   "outputs": [
    {
     "name": "stdout",
     "output_type": "stream",
     "text": [
      "Classification report on development set: \n",
      "               precision    recall  f1-score   support\n",
      "\n",
      "           0       0.46      0.87      0.60        47\n",
      "           1       0.92      0.27      0.41        45\n",
      "           2       0.55      0.26      0.35        46\n",
      "           3       0.56      0.26      0.35        54\n",
      "           4       0.58      0.20      0.30        54\n",
      "           5       0.50      0.16      0.24        50\n",
      "           6       0.57      0.39      0.46        54\n",
      "           7       0.62      0.30      0.41        53\n",
      "           8       0.32      0.55      0.41        44\n",
      "           9       0.25      0.88      0.39        50\n",
      "\n",
      "    accuracy                           0.41       497\n",
      "   macro avg       0.53      0.41      0.39       497\n",
      "weighted avg       0.53      0.41      0.39       497\n",
      "\n",
      "Classification report on test set: \n",
      "               precision    recall  f1-score   support\n",
      "\n",
      "           0       0.54      0.87      0.67        53\n",
      "           1       0.89      0.29      0.44        55\n",
      "           2       0.48      0.22      0.30        54\n",
      "           3       0.58      0.15      0.24        46\n",
      "           4       0.36      0.11      0.17        46\n",
      "           5       0.59      0.38      0.46        50\n",
      "           6       0.61      0.37      0.46        46\n",
      "           7       0.38      0.28      0.32        47\n",
      "           8       0.42      0.68      0.52        56\n",
      "           9       0.25      0.84      0.39        50\n",
      "\n",
      "    accuracy                           0.43       503\n",
      "   macro avg       0.51      0.42      0.40       503\n",
      "weighted avg       0.51      0.43      0.40       503\n",
      "\n"
     ]
    }
   ],
   "source": [
    "from sklearn.metrics import classification_report\n",
    "\n",
    "dev_classification_report = classification_report(dev_labels, dev_predictions)\n",
    "print(\"Classification report on development set: \\n\", dev_classification_report)\n",
    "\n",
    "test_classification_report = classification_report(test_labels, test_predictions)\n",
    "print(\"Classification report on test set: \\n\", test_classification_report)\n"
   ]
  },
  {
   "cell_type": "code",
   "execution_count": null,
   "id": "0a550b5f",
   "metadata": {},
   "outputs": [],
   "source": []
  }
 ],
 "metadata": {
  "kernelspec": {
   "display_name": "Python 3 (ipykernel)",
   "language": "python",
   "name": "python3"
  },
  "language_info": {
   "codemirror_mode": {
    "name": "ipython",
    "version": 3
   },
   "file_extension": ".py",
   "mimetype": "text/x-python",
   "name": "python",
   "nbconvert_exporter": "python",
   "pygments_lexer": "ipython3",
   "version": "3.9.12"
  }
 },
 "nbformat": 4,
 "nbformat_minor": 5
}
