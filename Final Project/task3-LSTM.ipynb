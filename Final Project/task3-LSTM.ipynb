{
 "cells": [
  {
   "cell_type": "markdown",
   "id": "77934b54",
   "metadata": {},
   "source": [
    "## Task 3"
   ]
  },
  {
   "cell_type": "code",
   "execution_count": 1,
   "id": "852e8a5f",
   "metadata": {},
   "outputs": [],
   "source": [
    "#%matplotlib inline\n",
    "import numpy as np\n",
    "import scipy, matplotlib.pyplot as plt, IPython.display as ipd\n",
    "import librosa, librosa.display\n",
    "\n",
    "import pandas as pd\n",
    "\n",
    "from sklearn  import preprocessing\n",
    "\n",
    "\n",
    "from collections import defaultdict, Counter\n",
    "\n",
    "# add this to ignore warnings from Librosa\n",
    "import warnings\n",
    "warnings.filterwarnings('ignore')\n",
    "\n",
    "import random\n",
    "import torch\n",
    "import torch.nn as nn\n",
    "import torch.nn.functional as F"
   ]
  },
  {
   "cell_type": "code",
   "execution_count": 2,
   "id": "fd30fbfe",
   "metadata": {},
   "outputs": [],
   "source": [
    "# for linear models \n",
    "from sklearn.linear_model import SGDClassifier\n",
    "from sklearn.preprocessing import StandardScaler\n",
    "from sklearn.metrics import accuracy_score\n",
    "from sklearn.metrics import plot_confusion_matrix\n",
    "from sklearn.metrics import classification_report\n",
    "from sklearn.metrics import confusion_matrix"
   ]
  },
  {
   "cell_type": "code",
   "execution_count": 3,
   "id": "7723915b",
   "metadata": {},
   "outputs": [],
   "source": [
    "from sklearn.neural_network import MLPClassifier"
   ]
  },
  {
   "cell_type": "code",
   "execution_count": 4,
   "id": "ccfe0a7e",
   "metadata": {},
   "outputs": [],
   "source": [
    "sdr_df = pd.read_csv('SDR_metadata.tsv', sep='\\t', header=0, index_col='Unnamed: 0')\n"
   ]
  },
  {
   "cell_type": "code",
   "execution_count": 5,
   "id": "de7ef7f9",
   "metadata": {},
   "outputs": [
    {
     "data": {
      "text/html": [
       "<div>\n",
       "<style scoped>\n",
       "    .dataframe tbody tr th:only-of-type {\n",
       "        vertical-align: middle;\n",
       "    }\n",
       "\n",
       "    .dataframe tbody tr th {\n",
       "        vertical-align: top;\n",
       "    }\n",
       "\n",
       "    .dataframe thead th {\n",
       "        text-align: right;\n",
       "    }\n",
       "</style>\n",
       "<table border=\"1\" class=\"dataframe\">\n",
       "  <thead>\n",
       "    <tr style=\"text-align: right;\">\n",
       "      <th></th>\n",
       "      <th>identifier</th>\n",
       "      <th>speaker</th>\n",
       "      <th>split</th>\n",
       "      <th>label</th>\n",
       "      <th>file</th>\n",
       "    </tr>\n",
       "  </thead>\n",
       "  <tbody>\n",
       "    <tr>\n",
       "      <th>0</th>\n",
       "      <td>5_theo_23</td>\n",
       "      <td>theo</td>\n",
       "      <td>TRAIN</td>\n",
       "      <td>5</td>\n",
       "      <td>speech_data/5_theo_23.wav</td>\n",
       "    </tr>\n",
       "    <tr>\n",
       "      <th>1</th>\n",
       "      <td>2_yweweler_39</td>\n",
       "      <td>yweweler</td>\n",
       "      <td>TEST</td>\n",
       "      <td>2</td>\n",
       "      <td>speech_data/2_yweweler_39.wav</td>\n",
       "    </tr>\n",
       "    <tr>\n",
       "      <th>2</th>\n",
       "      <td>6_yweweler_34</td>\n",
       "      <td>yweweler</td>\n",
       "      <td>DEV</td>\n",
       "      <td>6</td>\n",
       "      <td>speech_data/6_yweweler_34.wav</td>\n",
       "    </tr>\n",
       "    <tr>\n",
       "      <th>3</th>\n",
       "      <td>6_yweweler_16</td>\n",
       "      <td>yweweler</td>\n",
       "      <td>DEV</td>\n",
       "      <td>6</td>\n",
       "      <td>speech_data/6_yweweler_16.wav</td>\n",
       "    </tr>\n",
       "    <tr>\n",
       "      <th>4</th>\n",
       "      <td>9_yweweler_2</td>\n",
       "      <td>yweweler</td>\n",
       "      <td>TEST</td>\n",
       "      <td>9</td>\n",
       "      <td>speech_data/9_yweweler_2.wav</td>\n",
       "    </tr>\n",
       "  </tbody>\n",
       "</table>\n",
       "</div>"
      ],
      "text/plain": [
       "      identifier   speaker  split  label                           file\n",
       "0      5_theo_23      theo  TRAIN      5      speech_data/5_theo_23.wav\n",
       "1  2_yweweler_39  yweweler   TEST      2  speech_data/2_yweweler_39.wav\n",
       "2  6_yweweler_34  yweweler    DEV      6  speech_data/6_yweweler_34.wav\n",
       "3  6_yweweler_16  yweweler    DEV      6  speech_data/6_yweweler_16.wav\n",
       "4   9_yweweler_2  yweweler   TEST      9   speech_data/9_yweweler_2.wav"
      ]
     },
     "execution_count": 5,
     "metadata": {},
     "output_type": "execute_result"
    }
   ],
   "source": [
    "sdr_df.head()"
   ]
  },
  {
   "cell_type": "code",
   "execution_count": 6,
   "id": "0d4bb43b",
   "metadata": {},
   "outputs": [
    {
     "data": {
      "text/plain": [
       "(2000, 5)"
      ]
     },
     "execution_count": 6,
     "metadata": {},
     "output_type": "execute_result"
    }
   ],
   "source": [
    "sdr_df[sdr_df.split == \"TRAIN\"].shape"
   ]
  },
  {
   "cell_type": "code",
   "execution_count": 7,
   "id": "bfed0a70",
   "metadata": {},
   "outputs": [],
   "source": [
    "sample_wav_file = sdr_df.loc[sdr_df['identifier'] == '7_theo_0'].file[700]\n"
   ]
  },
  {
   "cell_type": "code",
   "execution_count": 8,
   "id": "6ed8b82e",
   "metadata": {},
   "outputs": [
    {
     "data": {
      "text/html": [
       "\n",
       "                <audio  controls=\"controls\" >\n",
       "                    <source src=\"data:audio/wav;base64,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\" type=\"audio/wav\" />\n",
       "                    Your browser does not support the audio element.\n",
       "                </audio>\n",
       "              "
      ],
      "text/plain": [
       "<IPython.lib.display.Audio object>"
      ]
     },
     "execution_count": 8,
     "metadata": {},
     "output_type": "execute_result"
    }
   ],
   "source": [
    "# play and listen to a sample \n",
    "SAMPLING_RATE = 8000 # This value is determined by the wav file, DO NOT CHANGE\n",
    "\n",
    "x, sr = librosa.load(sample_wav_file, sr=SAMPLING_RATE) #, \n",
    "ipd.Audio(x, rate=sr)"
   ]
  },
  {
   "cell_type": "code",
   "execution_count": 9,
   "id": "d74a6026",
   "metadata": {},
   "outputs": [
    {
     "data": {
      "image/png": "[encoded data removed]",
      "text/plain": [
       "<Figure size 720x144 with 1 Axes>"
      ]
     },
     "metadata": {
      "needs_background": "light"
     },
     "output_type": "display_data"
    }
   ],
   "source": [
    "# plot as a waveform \n",
    "fig, ax = plt.subplots(figsize=(10, 2), sharex=True)\n",
    "\n",
    "img = librosa.display.waveshow(y=x, sr=sr, alpha=0.75, x_axis='time', color='blue')\n",
    "\n",
    "ax.set(title='Amplitude waveform')\n",
    "ax.set_ylabel('Amplitude')\n",
    "ax.label_outer()"
   ]
  },
  {
   "cell_type": "code",
   "execution_count": 10,
   "id": "994057a7",
   "metadata": {},
   "outputs": [],
   "source": [
    "def extract_melspectrogram(signal, sr, num_mels):\n",
    "    \"\"\"\n",
    "    Given a time series speech signal (.wav), sampling rate (sr), \n",
    "    and the number of mel coefficients, return a mel-scaled \n",
    "    representation of the signal as numpy array.\n",
    "    \"\"\"\n",
    "    \n",
    "    mel_features = librosa.feature.melspectrogram(y=signal,\n",
    "        sr=sr,\n",
    "        n_fft=200, # with sampling rate = 8000, this corresponds to 25 ms\n",
    "        hop_length=80, # with sampling rate = 8000, this corresponds to 10 ms\n",
    "        n_mels=num_mels, # number of frequency bins, use either 13 or 39\n",
    "        fmin=50, # min frequency threshold\n",
    "        fmax=4000 # max frequency threshold, set to SAMPLING_RATE/2\n",
    "    )\n",
    "    \n",
    "    # for numerical stability added this line\n",
    "    mel_features = np.where(mel_features == 0, np.finfo(float).eps, mel_features)\n",
    "\n",
    "    # 20 * log10 to convert to log scale\n",
    "    log_mel_features = 20*np.log10(mel_features)\n",
    "\n",
    "    # feature scaling\n",
    "    scaled_log_mel_features = preprocessing.scale(log_mel_features, axis=1)\n",
    "    \n",
    "    return scaled_log_mel_features"
   ]
  },
  {
   "cell_type": "code",
   "execution_count": 11,
   "id": "00d6ac78",
   "metadata": {},
   "outputs": [
    {
     "data": {
      "text/plain": [
       "(13, 43)"
      ]
     },
     "execution_count": 11,
     "metadata": {},
     "output_type": "execute_result"
    }
   ],
   "source": [
    "melspectrogram = extract_melspectrogram(x, sr, num_mels=13)\n",
    "\n",
    "melspectrogram.shape\n",
    "# x.shape"
   ]
  },
  {
   "cell_type": "code",
   "execution_count": 12,
   "id": "a57e48b1",
   "metadata": {},
   "outputs": [
    {
     "name": "stdout",
     "output_type": "stream",
     "text": [
      "WARNING:tensorflow:From C:\\ProgramData\\Anaconda3\\lib\\site-packages\\tensorflow\\python\\compat\\v2_compat.py:107: disable_resource_variables (from tensorflow.python.ops.variable_scope) is deprecated and will be removed in a future version.\n",
      "Instructions for updating:\n",
      "non-resource variables are not supported in the long term\n",
      "curses is not supported on this machine (please install/reinstall curses for an optimal experience)\n"
     ]
    }
   ],
   "source": [
    "import os\n",
    "import time\n",
    "import random\n",
    "import tflearn\n",
    "import librosa\n",
    "import numpy as np\n",
    "import librosa.display\n",
    "import tensorflow as tf\n",
    "import matplotlib.pyplot as plt"
   ]
  },
  {
   "cell_type": "code",
   "execution_count": 19,
   "id": "51a64598",
   "metadata": {},
   "outputs": [],
   "source": [
    "def downsample_spectrogram(X, N):\n",
    "\n",
    "    time_splits = np.array_split(X, N, axis=1)\n",
    "    pooled_splits = [np.mean(split, axis=1) for split in time_splits] \n",
    "    v = np.concatenate(pooled_splits)\n",
    "    return v"
   ]
  },
  {
   "cell_type": "code",
   "execution_count": 20,
   "id": "2a354fc8",
   "metadata": {},
   "outputs": [],
   "source": [
    "def get_downsampled_data(df):\n",
    "    signals = df.file.values\n",
    "    labels = df.label.values\n",
    "    # This value details is given in TASK 1 parameter N <= 25\n",
    "    N=10   \n",
    "\n",
    "    signals1 = []\n",
    "    for file in df.file.values:\n",
    "        signal1, sr = librosa.load(file)\n",
    "        signals1.append(signal1)\n",
    "\n",
    "    return [downsample_spectrogram(extract_melspectrogram(s, sr=8000, num_mels=13), N) for s in signals1], labels\n"
   ]
  },
  {
   "cell_type": "markdown",
   "id": "88287fda",
   "metadata": {},
   "source": [
    "## Data split for George"
   ]
  },
  {
   "cell_type": "code",
   "execution_count": 21,
   "id": "a2120c22",
   "metadata": {},
   "outputs": [],
   "source": [
    "# prepare data and split \n",
    "from sklearn.model_selection import train_test_split\n",
    "\n",
    "data = pd.read_csv('SDR_metadata.tsv', sep='\\t')\n",
    "\n",
    "\n",
    "speaker = 'george'\n",
    "train_data = data[data['speaker'] == speaker]\n",
    "test_data = data[data.speaker != 'george']\n",
    "\n",
    "downsampled_train, train_labels = get_downsampled_data(train_data)\n",
    "downsampled_test, test_labels = get_downsampled_data(test_data)"
   ]
  },
  {
   "cell_type": "code",
   "execution_count": 14,
   "id": "f7ba64ae",
   "metadata": {},
   "outputs": [],
   "source": [
    "# prepare data and split \n",
    "from sklearn.model_selection import train_test_split\n",
    "\n",
    "data = pd.read_csv('SDR_metadata.tsv', sep='\\t')\n",
    "\n",
    "\n",
    "speaker = 'george'\n",
    "train_data = data[data['speaker'] == speaker]\n",
    "test_data = data[data.speaker != 'george']\n"
   ]
  },
  {
   "cell_type": "markdown",
   "id": "5f8d6e35",
   "metadata": {},
   "source": [
    "## Applying BaseLine model on new training data set"
   ]
  },
  {
   "cell_type": "code",
   "execution_count": 22,
   "id": "9b78e702",
   "metadata": {},
   "outputs": [
    {
     "name": "stdout",
     "output_type": "stream",
     "text": [
      "Accuracy on train set:  0.996\n",
      "Accuracy on test set:  0.3584\n"
     ]
    }
   ],
   "source": [
    "from sklearn.linear_model import LogisticRegression\n",
    "\n",
    "\n",
    "clf = LogisticRegression(random_state=0)\n",
    "\n",
    "clf.fit(downsampled_train, train_labels)\n",
    "\n",
    "\n",
    "accuracy = clf.score(downsampled_train, train_labels)\n",
    "print(\"Accuracy on train set: \", accuracy)\n",
    "\n",
    "accuracy_test = clf.score(downsampled_test, test_labels)\n",
    "print(\"Accuracy on test set: \", accuracy_test)\n"
   ]
  },
  {
   "cell_type": "code",
   "execution_count": 23,
   "id": "b3cd6909",
   "metadata": {},
   "outputs": [
    {
     "name": "stdout",
     "output_type": "stream",
     "text": [
      "Accuracy on test set:  0.3584\n"
     ]
    }
   ],
   "source": [
    "from sklearn.metrics import accuracy_score\n",
    "\n",
    "test_predictions = clf.predict(downsampled_test)\n",
    "\n",
    "\n",
    "test_accuracy = accuracy_score(test_labels, test_predictions)\n",
    "print(\"Accuracy on test set: \", test_accuracy)\n"
   ]
  },
  {
   "cell_type": "code",
   "execution_count": 24,
   "id": "7b5ee872",
   "metadata": {},
   "outputs": [
    {
     "name": "stdout",
     "output_type": "stream",
     "text": [
      "Confusion matrix on test set: \n",
      "\n"
     ]
    },
    {
     "data": {
      "image/png": "[encoded data removed]",
      "text/plain": [
       "<Figure size 432x288 with 2 Axes>"
      ]
     },
     "metadata": {
      "needs_background": "light"
     },
     "output_type": "display_data"
    },
    {
     "name": "stdout",
     "output_type": "stream",
     "text": [
      "Class 0: TP = 178, TL = 250\n",
      "Class 1: TP = 209, TL = 250\n",
      "Class 2: TP = 32, TL = 250\n",
      "Class 3: TP = 36, TL = 250\n",
      "Class 4: TP = 40, TL = 250\n",
      "Class 5: TP = 52, TL = 250\n",
      "Class 6: TP = 132, TL = 250\n",
      "Class 7: TP = 117, TL = 250\n",
      "Class 8: TP = 46, TL = 250\n",
      "Class 9: TP = 54, TL = 250\n"
     ]
    }
   ],
   "source": [
    "from sklearn.metrics import confusion_matrix\n",
    "import seaborn as sns\n",
    "\n",
    "test_confusion_matrix = confusion_matrix(test_labels, test_predictions)\n",
    "print(\"Confusion matrix on test set: \\n\")\n",
    "cm_linear_model = confusion_matrix(test_labels, test_predictions)\n",
    "sns.heatmap(cm_linear_model, annot=True, fmt='d')\n",
    "plt.xlabel('Predicted label')\n",
    "plt.ylabel('True label')\n",
    "plt.show()\n",
    "\n",
    "# Extract true positives (TP) from the diagonal of the confusion matrix\n",
    "tp = cm_linear_model.diagonal()\n",
    "\n",
    "# Calculate total labels (TL) for each class by summing over rows of the confusion matrix\n",
    "tl = cm_linear_model.sum(axis=1)\n",
    "for i in range(len(tp)):\n",
    "    print(f\"Class {i}: TP = {tp[i]}, TL = {tl[i]}\")\n"
   ]
  },
  {
   "cell_type": "code",
   "execution_count": 25,
   "id": "c01f0cdd",
   "metadata": {},
   "outputs": [
    {
     "name": "stdout",
     "output_type": "stream",
     "text": [
      "Classification report on test set: \n",
      "               precision    recall  f1-score   support\n",
      "\n",
      "           0       0.57      0.71      0.64       250\n",
      "           1       0.32      0.84      0.46       250\n",
      "           2       0.38      0.13      0.19       250\n",
      "           3       0.55      0.14      0.23       250\n",
      "           4       0.32      0.16      0.21       250\n",
      "           5       0.49      0.21      0.29       250\n",
      "           6       0.25      0.53      0.34       250\n",
      "           7       0.36      0.47      0.41       250\n",
      "           8       0.55      0.18      0.28       250\n",
      "           9       0.25      0.22      0.23       250\n",
      "\n",
      "    accuracy                           0.36      2500\n",
      "   macro avg       0.40      0.36      0.33      2500\n",
      "weighted avg       0.40      0.36      0.33      2500\n",
      "\n"
     ]
    }
   ],
   "source": [
    "from sklearn.metrics import classification_report\n",
    "\n",
    "\n",
    "test_classification_report = classification_report(test_labels, test_predictions)\n",
    "print(\"Classification report on test set: \\n\", test_classification_report)\n"
   ]
  },
  {
   "cell_type": "markdown",
   "id": "98d407fc",
   "metadata": {},
   "source": [
    "## Training on LSTM"
   ]
  },
  {
   "cell_type": "code",
   "execution_count": 26,
   "id": "1083cda4",
   "metadata": {},
   "outputs": [],
   "source": [
    "# this section is copy of above get_downsampled_data, only difference is we are not downsampling it in this section for RNN\n",
    "\n",
    "def get_nn_data(df):\n",
    "    signals = df.file.values\n",
    "    labels = df.label.values\n",
    "    # This value details is given in TASK 1 parameter N <= 25\n",
    "    # N=10   \n",
    "\n",
    "    signals1 = []\n",
    "    for file in df.file.values:\n",
    "        signal1, sr = librosa.load(file)\n",
    "        signals1.append(signal1)\n",
    "\n",
    "    return [extract_melspectrogram(s, sr=8000, num_mels=13) for s in signals1], labels"
   ]
  },
  {
   "cell_type": "code",
   "execution_count": 80,
   "id": "f12e6ea1",
   "metadata": {},
   "outputs": [],
   "source": [
    "nn_train, train_labels = get_nn_data(train_data)\n",
    "print(nn_train[2])"
   ]
  },
  {
   "cell_type": "code",
   "execution_count": 81,
   "id": "9e0afad5",
   "metadata": {},
   "outputs": [],
   "source": [
    "print(nn_train[2])"
   ]
  },
  {
   "cell_type": "code",
   "execution_count": 30,
   "id": "0e3e1ad3",
   "metadata": {},
   "outputs": [],
   "source": [
    "num_classes = 10\n",
    "array=train_labels\n",
    "array=np.array(train_labels)\n",
    "labels = torch.from_numpy(train_labels)\n",
    "labels = F.one_hot(labels, num_classes)\n",
    "labels = labels.type(\"torch.FloatTensor\")\n",
    "\n",
    "\n",
    "max_len = 130\n",
    "\n",
    "rnn_train_data = []\n",
    "for sublist in nn_train:\n",
    "    x = sublist.shape\n",
    "#     print(\"x1\", x[1])\n",
    "#     print(\"max_len-x1\", max_len-x[1])\n",
    "    if x[1]> max_len:\n",
    "        #truncating here\n",
    "        padded_arr=sublist[:, :max_len]\n",
    "    else:\n",
    "        # for padding\n",
    "        padded_arr = np.pad(sublist, pad_width=((0,0),(0,max_len-x[1])), mode='constant')    \n",
    "    rnn_train_data.append(torch.transpose(torch.from_numpy(padded_arr), 0,1))\n",
    "\n"
   ]
  },
  {
   "cell_type": "code",
   "execution_count": 31,
   "id": "d02fcc00",
   "metadata": {},
   "outputs": [],
   "source": [
    "rnn_train_data = torch.stack(rnn_train_data)"
   ]
  },
  {
   "cell_type": "code",
   "execution_count": 82,
   "id": "cb5617af",
   "metadata": {},
   "outputs": [],
   "source": [
    "# rnn_train_data = torch.tensor(rnn_train_data)\n",
    "rnn_train_data.shape"
   ]
  },
  {
   "cell_type": "markdown",
   "id": "77fea971",
   "metadata": {},
   "source": [
    "## Data Loader"
   ]
  },
  {
   "cell_type": "code",
   "execution_count": 33,
   "id": "557ca6a3",
   "metadata": {},
   "outputs": [],
   "source": [
    "import torch\n",
    "from torch.utils.data import Dataset, DataLoader\n",
    "\n",
    "class RNNTrainDataset(Dataset):\n",
    "    def __init__(self, rnn_train_data, labels):\n",
    "        self.rnn_train_data = rnn_train_data\n",
    "        self.labels = labels\n",
    "\n",
    "    def __len__(self):\n",
    "        return len(self.rnn_train_data)\n",
    "\n",
    "    def __getitem__(self, idx):\n",
    "        return self.rnn_train_data[idx], self.labels[idx]\n",
    "\n",
    "batch_size = 20\n",
    "\n",
    "train_dataset = RNNTrainDataset(rnn_train_data, labels)\n",
    "train_loader = DataLoader(train_dataset, batch_size=batch_size, shuffle=True)\n"
   ]
  },
  {
   "cell_type": "code",
   "execution_count": 83,
   "id": "417ef24a",
   "metadata": {},
   "outputs": [],
   "source": [
    "for batch_idx, (data, target) in enumerate(train_loader):\n",
    "    print(f\"Batch {batch_idx}:\")\n",
    "    print(f\"Data: {data.shape}, {data.min()}, {data.max()}\")\n",
    "    print(f\"Target: {target.shape}\")"
   ]
  },
  {
   "cell_type": "markdown",
   "id": "039b0505",
   "metadata": {},
   "source": [
    "## Hyperparameters"
   ]
  },
  {
   "cell_type": "code",
   "execution_count": 35,
   "id": "75ec313d",
   "metadata": {},
   "outputs": [],
   "source": [
    "# hp\n",
    "num_epochs=100\n",
    "input_size = 13\n",
    "hidden_size = 128\n",
    "num_classes = 10\n",
    "learning_rate = 0.01\n",
    "n_total_steps = len(rnn_train_data)\n",
    "num_layers=3\n",
    "\n",
    "\n",
    "\n",
    "\n"
   ]
  },
  {
   "cell_type": "markdown",
   "id": "973f8e3d",
   "metadata": {},
   "source": [
    "## Lstm model"
   ]
  },
  {
   "cell_type": "code",
   "execution_count": 36,
   "id": "956676f3",
   "metadata": {},
   "outputs": [],
   "source": [
    "class RNN1(nn.Module):\n",
    "    def __init__(self, input_size, hidden_size, num_classes):\n",
    "        super(RNN1, self).__init__()\n",
    "        self.hidden_size = hidden_size\n",
    "        #self.rnn = nn.RNN(input_size, hidden_size)\n",
    "        self.lstm = nn.LSTM(input_size, hidden_size, bidirectional=True, batch_first=True) #if we want to run LSTM then we need to uncoment this line,and comnt abve line\n",
    "        self.dropout = nn.Dropout(0.2)\n",
    "        self.fc = nn.Linear(hidden_size*2, num_classes)\n",
    "        \n",
    "    def forward(self, x):\n",
    "        h0 = torch.zeros(2, 20, self.hidden_size, dtype=torch.float32)\n",
    "        c0 = torch.zeros(2, 20, self.hidden_size, dtype=torch.float32)\n",
    "        # out : seq_len x hidden_size\n",
    "        #out, _ = self.rnn(x, h0)\n",
    "        out, _ = self.lstm(x, (h0, c0))     #if we want to run LSTM then we need to uncoment this line, and coment above line\n",
    "        out = self.fc(out[:, -1, :])\n",
    "        out_softmax = F.softmax(out)\n",
    "        return out, out_softmax"
   ]
  },
  {
   "cell_type": "markdown",
   "id": "35bfe55c",
   "metadata": {},
   "source": [
    "## Training Loop"
   ]
  },
  {
   "cell_type": "code",
   "execution_count": 84,
   "id": "4bd8d260",
   "metadata": {},
   "outputs": [],
   "source": [
    "import matplotlib.pyplot as plt\n",
    "rnn3 = RNN1(input_size, hidden_size, num_classes)\n",
    "criterion = nn.CrossEntropyLoss()\n",
    "optimizer = torch.optim.Adam(rnn3.parameters(), lr=learning_rate)\n",
    "\n",
    "# initialize an empty list to store the loss at each epoch\n",
    "loss_history = []\n",
    "features = []\n",
    "labels = []\n",
    "\n",
    "for epoch in range(num_epochs):\n",
    "    total_loss = 0.0\n",
    "    total_correct = 0\n",
    "    total_samples = 0\n",
    "    \n",
    "    for i, (sample, label) in enumerate(train_loader):\n",
    "        # Forward pass\n",
    "        last_layer, out = rnn3(sample)\n",
    "        features.append(last_layer.detach().cpu().numpy())\n",
    "        labels.append(label.cpu().numpy())\n",
    "        loss = criterion(out, label)\n",
    "\n",
    "        # Backward and optimize\n",
    "        optimizer.zero_grad()\n",
    "        loss.backward()\n",
    "        optimizer.step()\n",
    "        \n",
    "        total_loss += loss.item()\n",
    "        total_correct += torch.sum(torch.argmax(out, dim=1) == torch.argmax(label, dim=1)).item()\n",
    "        total_samples += len(label)\n",
    "\n",
    "        if (i+1) % 100 == 0:\n",
    "            print(f'Epoch [{epoch+1}/{num_epochs}], Step [{i+1}/{len(train_loader)}], Loss: {loss.item():.4f}')\n",
    "    \n",
    "    train_loss = total_loss / len(train_loader)\n",
    "    train_accuracy = total_correct / total_samples\n",
    "    loss_history.append(train_loss)  # append the loss at this epoch to the list\n",
    "    print(f'Train loss: {train_loss:.4f}, Train accuracy: {train_accuracy:.4f}')\n",
    "    \n",
    "\n",
    "# plot the loss history\n",
    "plt.plot(loss_history)\n",
    "plt.title('Training loss')\n",
    "plt.xlabel('Epoch')\n",
    "plt.ylabel('Loss')\n",
    "plt.show()\n",
    "plt.savefig('Training_Loss.png')\n",
    "\n",
    "# Tsne Plot\n",
    "from sklearn.manifold import TSNE\n",
    "features = np.concatenate(features, axis=0)\n",
    "labels = np.concatenate(labels, axis=0)\n",
    "\n",
    "tsne = TSNE(n_components=2, random_state=42)\n",
    "embedded_features = tsne.fit_transform(features)\n",
    "\n",
    "# plot the embedded features with different colors for different labels\n",
    "fig, ax = plt.subplots(figsize=(12, 6))\n",
    "\n",
    "plt.scatter(embedded_features[:, 0], embedded_features[:, 1])\n",
    "plt.colorbar()\n",
    "plt.show()"
   ]
  },
  {
   "cell_type": "markdown",
   "id": "60bc7090",
   "metadata": {},
   "source": [
    "## calculating accuracy on Test set"
   ]
  },
  {
   "cell_type": "code",
   "execution_count": 39,
   "id": "1abf8597",
   "metadata": {},
   "outputs": [],
   "source": [
    "# prepare data and split \n",
    "from sklearn.model_selection import train_test_split\n",
    "\n",
    "data = pd.read_csv('SDR_metadata.tsv', sep='\\t')\n",
    "\n",
    "\n",
    "speaker = 'george'\n",
    "train_data = data[data['speaker'] == speaker]\n",
    "test_data = data[data.speaker != 'george']\n"
   ]
  },
  {
   "cell_type": "code",
   "execution_count": 40,
   "id": "23123331",
   "metadata": {},
   "outputs": [],
   "source": [
    "test_data_eval, test_labels =get_nn_data(test_data)"
   ]
  },
  {
   "cell_type": "code",
   "execution_count": 85,
   "id": "bc0d450b",
   "metadata": {},
   "outputs": [],
   "source": [
    "test_data_eval"
   ]
  },
  {
   "cell_type": "code",
   "execution_count": 86,
   "id": "8100bd9e",
   "metadata": {},
   "outputs": [],
   "source": [
    "num_classes = 10\n",
    "array_test=test_labels\n",
    "array_test=np.array(test_labels)\n",
    "rnn_test_labels = torch.from_numpy(test_labels)\n",
    "rnn_test_labels = F.one_hot(rnn_test_labels, num_classes)\n",
    "rnn_test_labels = rnn_test_labels.type(\"torch.FloatTensor\")\n",
    "print(len(rnn_test_labels))\n",
    "\n",
    "max_len = 130\n",
    "\n",
    "rnn_test_data = []\n",
    "for sublist in test_data_eval:\n",
    "    x = sublist.shape\n",
    "    \n",
    "   \n",
    "    if x[1]> max_len:\n",
    "        #truncating here\n",
    "        padded_arr=sublist[:, :max_len]\n",
    "    else:\n",
    "        # for padding\n",
    "        padded_arr = np.pad(sublist, pad_width=((0,0),(0,max_len-x[1])), mode='constant')    \n",
    "    rnn_test_data.append(torch.transpose(torch.from_numpy(padded_arr), 0,1))\n"
   ]
  },
  {
   "cell_type": "code",
   "execution_count": 43,
   "id": "0ab4b642",
   "metadata": {},
   "outputs": [],
   "source": [
    "rnn_test_data = torch.stack(rnn_test_data)"
   ]
  },
  {
   "cell_type": "code",
   "execution_count": 87,
   "id": "0311899c",
   "metadata": {},
   "outputs": [],
   "source": [
    "rnn_test_data.shape"
   ]
  },
  {
   "cell_type": "code",
   "execution_count": 45,
   "id": "223fc0dc",
   "metadata": {},
   "outputs": [],
   "source": [
    "\n",
    "batch_size = 20\n",
    "\n",
    "test_dataset = RNNTrainDataset(rnn_test_data, rnn_test_labels)\n",
    "test_loader = DataLoader(test_dataset, batch_size=batch_size, shuffle=True, drop_last=True )"
   ]
  },
  {
   "cell_type": "code",
   "execution_count": 88,
   "id": "9cc81a11",
   "metadata": {},
   "outputs": [],
   "source": [
    "for batch_idx, (data, target) in enumerate(test_loader):\n",
    "    print(f\"Batch {batch_idx}:\")\n",
    "    print(f\"Data: {data.shape}, {data.min()}, {data.max()}\")\n",
    "    print(f\"Target: {target.shape}\")"
   ]
  },
  {
   "cell_type": "code",
   "execution_count": 89,
   "id": "50b0c139",
   "metadata": {},
   "outputs": [],
   "source": [
    "rnn_testing = RNN1(input_size, hidden_size, num_classes)\n",
    "features = []\n",
    "labels = []\n",
    "\n",
    "with torch.no_grad():\n",
    "    total_correct_test = 0\n",
    "    total_samples_test = 0\n",
    "    for i, (sample, label) in enumerate(test_loader):\n",
    "        last_layer, out = rnn3(sample)\n",
    "        features.append(last_layer.cpu().numpy())\n",
    "        labels.append(label.cpu().numpy())\n",
    "        preds_test = torch.argmax(out)\n",
    "        labels_class_test = torch.argmax(rnn_test_labels[i])\n",
    "        correct = (preds_test == labels_class_test)\n",
    "        total_correct_test += torch.sum(torch.argmax(out, dim=1) == torch.argmax(label, dim=1)).item()\n",
    "        total_samples_test += len(label)\n",
    "        \n",
    "    test_acc = total_correct_test / total_samples_test\n",
    "    print(total_correct_test)\n",
    "    print(total_samples_test)\n",
    "    print(f'test accuracy: {test_acc *100:.4f} %')\n",
    "\n",
    "## Tsne    \n",
    "# features = np.concatenate(features, axis=0)\n",
    "# labels = np.concatenate(labels, axis=0)\n",
    "\n",
    "# tsne = TSNE(n_components=2, random_state=42)\n",
    "# embedded_features = tsne.fit_transform(features)\n",
    "\n",
    "# # plot the embedded features with different colors for different labels\n",
    "# fig, ax = plt.subplots(figsize=(12, 6))\n",
    "\n",
    "# plt.scatter(embedded_features[:, 0], embedded_features[:, 1])\n",
    "# plt.title('TSNe for test Classification')\n",
    "# plt.colorbar()\n",
    "# plt.show()\n"
   ]
  },
  {
   "cell_type": "code",
   "execution_count": 90,
   "id": "89294ec5",
   "metadata": {},
   "outputs": [],
   "source": [
    "from sklearn.metrics import confusion_matrix, classification_report\n",
    "\n",
    "rnn_testing = RNN1(input_size, hidden_size, num_classes)\n",
    "\n",
    "with torch.no_grad():\n",
    "    total_correct_test = 0\n",
    "    total_samples_test = 0\n",
    "    all_preds = []\n",
    "    all_labels = []\n",
    "    for i, (sample, label) in enumerate(test_loader):\n",
    "        last_layer, out = rnn3(sample)\n",
    "\n",
    "        preds_test = torch.argmax(out, dim=1)\n",
    "        labels_class_test = torch.argmax(label, dim=1)\n",
    "        \n",
    "        all_preds.extend(preds_test.cpu().numpy())\n",
    "        all_labels.extend(labels_class_test.cpu().numpy())\n",
    "        \n",
    "        total_correct_test += torch.sum(preds_test == labels_class_test).item()\n",
    "        total_samples_test += len(label)\n",
    "        \n",
    "    test_acc = total_correct_test / total_samples_test\n",
    "    print(total_correct_test)\n",
    "    print(total_samples_test)\n",
    "    print(f'test accuracy: {test_acc *100:.4f} %')\n",
    "    \n",
    "#     # Compute confusion matrix\n",
    "#     cm_test = confusion_matrix(all_labels, all_preds)\n",
    "#     print('Confusion matrix for test Set:\\n')\n",
    "#     sns.heatmap(cm_test, annot=True, fmt='d')\n",
    "    \n",
    "#     # Compute precision, recall, F1-score\n",
    "#     report = classification_report(all_labels, all_preds)\n",
    "#     print('Classification report:\\n', report)\n"
   ]
  },
  {
   "cell_type": "markdown",
   "id": "7da01ebb",
   "metadata": {},
   "source": [
    "## Data Augmentation (task 3.2)"
   ]
  },
  {
   "cell_type": "code",
   "execution_count": 50,
   "id": "0a8516f4",
   "metadata": {},
   "outputs": [],
   "source": [
    "import random\n",
    "import librosa\n",
    "import numpy as np\n",
    "\n",
    "def spec_augment(spec, max_time_mask=10, max_freq_mask=5, num_time_mask=2, num_freq_mask=2, max_pitch_shift=2, max_time_warp=5):\n",
    "    spec = spec.copy()\n",
    "    \n",
    "    # time masking\n",
    "    for i in range(num_time_mask):\n",
    "        t = np.random.randint(0, max_time_mask)\n",
    "        t0 = np.random.randint(0, spec.shape[1] - t)\n",
    "        spec[:, t0:t0 + t] = 0\n",
    "    \n",
    "    # frequency masking\n",
    "    for i in range(num_freq_mask):\n",
    "        f = np.random.randint(0, max_freq_mask)\n",
    "        f0 = np.random.randint(0, spec.shape[0] - f)\n",
    "        spec[f0:f0 + f, :] = 0\n",
    "    \n",
    "    # pitch shifting\n",
    "    pitch_shift = np.random.randint(-max_pitch_shift, max_pitch_shift)\n",
    "    spec = librosa.effects.pitch_shift(spec, sr=8000, n_steps=pitch_shift, bins_per_octave=12)\n",
    "    \n",
    "    # time warping\n",
    "    time_warp = np.random.randint(0, max_time_warp)\n",
    "    spec = librosa.effects.time_stretch(spec, np.random.uniform(1 - time_warp/100, 1 + time_warp/100))\n",
    "    \n",
    "    return spec\n"
   ]
  },
  {
   "cell_type": "code",
   "execution_count": 91,
   "id": "b04a8049",
   "metadata": {},
   "outputs": [],
   "source": [
    "nn_train_augmented = [spec_augment(spec) for spec in nn_train]\n",
    "print(nn_train_augmented)\n"
   ]
  },
  {
   "cell_type": "code",
   "execution_count": 52,
   "id": "968cae90",
   "metadata": {},
   "outputs": [],
   "source": [
    "\n",
    "num_classes = 10\n",
    "array=train_labels\n",
    "array=np.array(train_labels)\n",
    "labels = torch.from_numpy(train_labels)\n",
    "labels = F.one_hot(labels, num_classes)\n",
    "labels = labels.type(\"torch.FloatTensor\")\n",
    "\n",
    "\n",
    "max_len = 130\n",
    "\n",
    "rnn_aug_data = []\n",
    "for sublist in nn_train_augmented:\n",
    "    x = sublist.shape\n",
    "#     print(\"x1\", x[1])\n",
    "#     print(\"max_len-x1\", max_len-x[1])\n",
    "    if x[1]> max_len:\n",
    "        #truncating here\n",
    "        padded_arr=sublist[:, :max_len]\n",
    "    else:\n",
    "        # for padding\n",
    "        padded_arr = np.pad(sublist, pad_width=((0,0),(0,max_len-x[1])), mode='constant')    \n",
    "    rnn_aug_data.append(torch.transpose(torch.from_numpy(padded_arr), 0,1))\n",
    "\n",
    "    \n",
    "\n",
    "# rnn_train_data = torch.stack(rnn_train_data)\n",
    "        \n"
   ]
  },
  {
   "cell_type": "code",
   "execution_count": 53,
   "id": "f00f74ee",
   "metadata": {},
   "outputs": [],
   "source": [
    "rnn_aug_tensor = torch.stack(rnn_aug_data)\n"
   ]
  },
  {
   "cell_type": "code",
   "execution_count": 92,
   "id": "531bbe31",
   "metadata": {},
   "outputs": [],
   "source": [
    "rnn_aug_tensor"
   ]
  },
  {
   "cell_type": "code",
   "execution_count": 55,
   "id": "bb56fac0",
   "metadata": {},
   "outputs": [],
   "source": [
    "import torch\n",
    "from torch.utils.data import Dataset, DataLoader\n",
    "\n",
    "class RNNTrainDataset(Dataset):\n",
    "    def __init__(self, rnn_aug_tensor, labels):\n",
    "        self.rnn_aug_tensor = rnn_aug_tensor\n",
    "        self.labels = labels\n",
    "\n",
    "    def __len__(self):\n",
    "        return len(self.rnn_aug_tensor)\n",
    "\n",
    "    def __getitem__(self, idx):\n",
    "        return self.rnn_aug_tensor[idx], self.labels[idx]\n",
    "\n",
    "batch_size = 20\n",
    "\n",
    "aug_dataset = RNNTrainDataset(rnn_aug_tensor, labels)\n",
    "aug_loader = DataLoader(aug_dataset, batch_size=batch_size, shuffle=True, drop_last=True)"
   ]
  },
  {
   "cell_type": "code",
   "execution_count": 93,
   "id": "c98762a3",
   "metadata": {},
   "outputs": [],
   "source": [
    "for batch_idx, (data, target) in enumerate(aug_loader):\n",
    "    print(f\"Batch {batch_idx}:\")\n",
    "    print(f\"Data: {data.shape}, {data.min()}, {data.max()}\")\n",
    "    print(f\"Target: {target.shape}\")"
   ]
  },
  {
   "cell_type": "code",
   "execution_count": 57,
   "id": "5724a0b8",
   "metadata": {},
   "outputs": [],
   "source": [
    "# hp\n",
    "num_epochs=100\n",
    "input_size = 13\n",
    "hidden_size = 128\n",
    "num_classes = 10\n",
    "learning_rate = 0.01\n",
    "n_total_steps = len(rnn_aug_tensor)\n",
    "# num_layers=3\n",
    "\n",
    "\n",
    "\n"
   ]
  },
  {
   "cell_type": "code",
   "execution_count": 58,
   "id": "54db229d",
   "metadata": {},
   "outputs": [],
   "source": [
    "class RNN1(nn.Module):\n",
    "    def __init__(self, input_size, hidden_size, num_classes):\n",
    "        super(RNN1, self).__init__()\n",
    "        self.hidden_size = hidden_size\n",
    "        #self.rnn = nn.RNN(input_size, hidden_size)\n",
    "        self.lstm = nn.LSTM(input_size, hidden_size, bidirectional=True, batch_first=True) #if we want to run LSTM then we need to uncoment this line,and comnt abve line\n",
    "        self.dropout = nn.Dropout(0.2)\n",
    "        self.fc = nn.Linear(hidden_size*2, num_classes)\n",
    "        \n",
    "    def forward(self, x):\n",
    "        h0 = torch.zeros(2, 20, self.hidden_size, dtype=torch.float32)\n",
    "        c0 = torch.zeros(2, 20, self.hidden_size, dtype=torch.float32)\n",
    "        # out : seq_len x hidden_size\n",
    "        #out, _ = self.rnn(x, h0)\n",
    "        out, _ = self.lstm(x, (h0, c0))     #if we want to run LSTM then we need to uncoment this line, and coment above line\n",
    "        out = self.fc(out[:, -1, :])\n",
    "        out_softmax = F.softmax(out)\n",
    "        return out, out_softmax"
   ]
  },
  {
   "cell_type": "code",
   "execution_count": 94,
   "id": "ab607f5c",
   "metadata": {},
   "outputs": [],
   "source": [
    "import matplotlib.pyplot as plt\n",
    "rnn3 = RNN1(input_size, hidden_size, num_classes)\n",
    "criterion = nn.CrossEntropyLoss()\n",
    "optimizer = torch.optim.Adam(rnn3.parameters(), lr=learning_rate)\n",
    "\n",
    "# initialize an empty list to store the loss at each epoch\n",
    "loss_history = []\n",
    "features = []\n",
    "labels = []\n",
    "\n",
    "for epoch in range(num_epochs):\n",
    "    total_loss = 0.0\n",
    "    total_correct = 0\n",
    "    total_samples = 0\n",
    "    \n",
    "    for i, (sample, label) in enumerate(aug_loader):\n",
    "        # Forward pass\n",
    "        last_layer, out = rnn3(sample)\n",
    "        features.append(last_layer.detach().cpu().numpy())\n",
    "        labels.append(label.cpu().numpy())\n",
    "        loss = criterion(out, label)\n",
    "\n",
    "        # Backward and optimize\n",
    "        optimizer.zero_grad()\n",
    "        loss.backward()\n",
    "        optimizer.step()\n",
    "        \n",
    "        total_loss += loss.item()\n",
    "        total_correct += torch.sum(torch.argmax(out, dim=1) == torch.argmax(label, dim=1)).item()\n",
    "        total_samples += len(label)\n",
    "\n",
    "        if (i+1) % 100 == 0:\n",
    "            print(f'Epoch [{epoch+1}/{num_epochs}], Step [{i+1}/{len(train_loader)}], Loss: {loss.item():.4f}')\n",
    "    \n",
    "    aug_loss = total_loss / len(aug_loader)\n",
    "    aug_accuracy = total_correct / total_samples\n",
    "    loss_history.append(aug_loss)  # append the loss at this epoch to the list\n",
    "    print(f'Train loss: {aug_loss:.4f}, Train accuracy: {aug_accuracy:.4f}')\n",
    "    \n",
    "# plot the loss history\n",
    "plt.plot(loss_history)\n",
    "plt.title('Aug Training loss')\n",
    "plt.xlabel('Epoch')\n",
    "plt.ylabel('Loss')\n",
    "plt.show()\n",
    "plt.savefig('Training_Loss.png')"
   ]
  },
  {
   "cell_type": "markdown",
   "id": "adc9ce0e",
   "metadata": {},
   "source": [
    "## Evaluation on test set after data augmentation"
   ]
  },
  {
   "cell_type": "code",
   "execution_count": 60,
   "id": "069f0ee5",
   "metadata": {},
   "outputs": [],
   "source": [
    "# prepare data and split \n",
    "from sklearn.model_selection import train_test_split\n",
    "\n",
    "data = pd.read_csv('SDR_metadata.tsv', sep='\\t')\n",
    "\n",
    "\n",
    "speaker = 'george'\n",
    "train_data = data[data['speaker'] == speaker]\n",
    "test_data = data[data.speaker != 'george']\n"
   ]
  },
  {
   "cell_type": "code",
   "execution_count": 95,
   "id": "1ad836a1",
   "metadata": {},
   "outputs": [],
   "source": [
    "nn_test_augmented = [spec_augment(spec) for spec in test_data_eval]\n",
    "print(nn_test_augmented)\n"
   ]
  },
  {
   "cell_type": "code",
   "execution_count": 96,
   "id": "122361b1",
   "metadata": {},
   "outputs": [],
   "source": [
    "nn_test_augmented"
   ]
  },
  {
   "cell_type": "code",
   "execution_count": 97,
   "id": "7868e525",
   "metadata": {},
   "outputs": [],
   "source": [
    "num_classes = 10\n",
    "array_test=test_labels\n",
    "array_test=np.array(test_labels)\n",
    "rnn_test_labels = torch.from_numpy(test_labels)\n",
    "rnn_test_labels = F.one_hot(rnn_test_labels, num_classes)\n",
    "rnn_test_labels = rnn_test_labels.type(\"torch.FloatTensor\")\n",
    "print(len(rnn_test_labels))\n",
    "\n",
    "max_len = 130\n",
    "\n",
    "rnn_test_aug = []\n",
    "for sublist in nn_test_augmented:\n",
    "    x = sublist.shape\n",
    "    \n",
    "   \n",
    "    if x[1]> max_len:\n",
    "        #truncating here\n",
    "        padded_arr=sublist[:, :max_len]\n",
    "    else:\n",
    "        # for padding\n",
    "        padded_arr = np.pad(sublist, pad_width=((0,0),(0,max_len-x[1])), mode='constant')    \n",
    "    rnn_test_aug.append(torch.transpose(torch.from_numpy(padded_arr), 0,1))\n"
   ]
  },
  {
   "cell_type": "code",
   "execution_count": 64,
   "id": "e36000fc",
   "metadata": {},
   "outputs": [],
   "source": [
    "rnn_aug_test_tensor = torch.stack(rnn_test_aug)\n"
   ]
  },
  {
   "cell_type": "code",
   "execution_count": 98,
   "id": "1420bac8",
   "metadata": {},
   "outputs": [],
   "source": [
    "print(rnn_aug_test_tensor.shape)"
   ]
  },
  {
   "cell_type": "code",
   "execution_count": 66,
   "id": "922a36c8",
   "metadata": {},
   "outputs": [],
   "source": [
    "import torch\n",
    "from torch.utils.data import Dataset, DataLoader\n",
    "\n",
    "class RNNTrainDataset(Dataset):\n",
    "    def __init__(self, rnn_aug_test_tensor, rnn_test_labels):\n",
    "        self.rnn_aug_test_tensor = rnn_aug_test_tensor\n",
    "        self.rnn_test_labels = rnn_test_labels\n",
    "\n",
    "    def __len__(self):\n",
    "        return len(self.rnn_aug_test_tensor)\n",
    "\n",
    "    def __getitem__(self, idx):\n",
    "        return self.rnn_aug_test_tensor[idx], self.rnn_test_labels[idx]\n",
    "\n",
    "batch_size = 20\n",
    "\n",
    "aug_test_dataset = RNNTrainDataset(rnn_aug_test_tensor, rnn_test_labels)\n",
    "aug_test_loader = DataLoader(aug_test_dataset, batch_size=batch_size, shuffle=True, drop_last=True)"
   ]
  },
  {
   "cell_type": "code",
   "execution_count": 99,
   "id": "1aacf927",
   "metadata": {},
   "outputs": [],
   "source": [
    "for batch_idx, (data, target) in enumerate(aug_test_loader):\n",
    "    print(f\"Batch {batch_idx}:\")\n",
    "    print(f\"Data: {data.shape}, {data.min()}, {data.max()}\")\n",
    "    print(f\"Target: {target.shape}\")"
   ]
  },
  {
   "cell_type": "code",
   "execution_count": 100,
   "id": "47abe4fd",
   "metadata": {},
   "outputs": [],
   "source": [
    "rnn_test_labels"
   ]
  },
  {
   "cell_type": "code",
   "execution_count": 101,
   "id": "808fde91",
   "metadata": {},
   "outputs": [],
   "source": [
    "from sklearn.metrics import confusion_matrix, classification_report\n",
    "\n",
    "rnn = RNN1(input_size, hidden_size, num_classes)\n",
    "\n",
    "with torch.no_grad():\n",
    "    total_correct_test = 0\n",
    "    total_samples_test = 0\n",
    "    all_preds = []\n",
    "    all_labels = []\n",
    "    for i, (sample, label) in enumerate(aug_test_loader):\n",
    "        last_layer, out = rnn3(sample)\n",
    "\n",
    "        preds_test = torch.argmax(out, dim=1)\n",
    "        labels_class_test = torch.argmax(label, dim=1)\n",
    "        \n",
    "        all_preds.extend(preds_test.cpu().numpy())\n",
    "        all_labels.extend(labels_class_test.cpu().numpy())\n",
    "        \n",
    "        total_correct_test += torch.sum(preds_test == labels_class_test).item()\n",
    "        total_samples_test += len(label)\n",
    "        \n",
    "    test_acc = total_correct_test / total_samples_test\n",
    "    print(total_correct_test)\n",
    "    print(total_samples_test)\n",
    "    print(f'test accuracy: {test_acc *100:.4f} %')\n",
    "    \n",
    "#     # Compute confusion matrix\n",
    "#     cm_test = confusion_matrix(all_labels, all_preds)\n",
    "#     print('Confusion matrix for test Set:\\n')\n",
    "#     sns.heatmap(cm_test, annot=True, fmt='d')\n",
    "    \n",
    "#     # Compute precision, recall, F1-score\n",
    "#     report = classification_report(all_labels, all_preds)\n",
    "#     print('Classification report:\\n', report)\n"
   ]
  },
  {
   "cell_type": "markdown",
   "id": "29359a27",
   "metadata": {},
   "source": [
    "## contrastive Learning (task 3.3)"
   ]
  },
  {
   "cell_type": "code",
   "execution_count": 70,
   "id": "7c7c8809",
   "metadata": {},
   "outputs": [],
   "source": [
    "class RNNTrainDataset(Dataset):\n",
    "    def __init__(self, rnn_aug_test_tensor, rnn_test_labels):\n",
    "        self.rnn_aug_test_tensor = rnn_aug_test_tensor\n",
    "        self.rnn_test_labels = rnn_test_labels\n",
    "\n",
    "    def __len__(self):\n",
    "        return len(self.rnn_aug_test_tensor)\n",
    "\n",
    "    def __getitem__(self, idx):\n",
    "        input1 = self.rnn_aug_test_tensor[idx]\n",
    "        input2 = torch.zeros_like(input1)\n",
    "        target = self.rnn_test_labels[idx]\n",
    "        return input1, input2, target\n",
    "\n",
    "batch_size = 10\n",
    "\n",
    "aug_test_dataset = RNNTrainDataset(rnn_aug_test_tensor, rnn_test_labels)\n",
    "aug_test_loader = DataLoader(aug_test_dataset, batch_size=batch_size, shuffle=True, drop_last=True)"
   ]
  },
  {
   "cell_type": "code",
   "execution_count": 71,
   "id": "71239fc8",
   "metadata": {},
   "outputs": [],
   "source": [
    "import torch\n",
    "import torch.nn as nn\n",
    "import torch.optim as optim\n",
    "\n",
    "class ContrastiveLSTM(nn.Module):\n",
    "    def __init__(self, input_size, hidden_size, num_classes):\n",
    "        super(ContrastiveLSTM, self).__init__()\n",
    "        self.hidden_size = hidden_size\n",
    "        self.lstm = nn.LSTM(input_size, hidden_size, bidirectional=True, batch_first=True)\n",
    "        self.dropout = nn.Dropout(0.2)\n",
    "        self.fc = nn.Linear(hidden_size*2, num_classes)\n",
    "        \n",
    "    def forward(self, x):\n",
    "        h0 = torch.zeros(2, 10, self.hidden_size, dtype=torch.float32)\n",
    "        c0 = torch.zeros(2, 10, self.hidden_size, dtype=torch.float32)\n",
    "        out, _ = self.lstm(x, (h0, c0))\n",
    "        out = self.fc(out[:, -1, :])\n",
    "        out_softmax = nn.functional.softmax(out)\n",
    "        return out, out_softmax\n",
    "\n",
    "\n",
    "class ContrastiveLoss(nn.Module):\n",
    "    def __init__(self, margin):\n",
    "        super(ContrastiveLoss, self).__init__()\n",
    "        self.margin = margin\n",
    "\n",
    "    def forward(self, output1, output2, target):\n",
    "        # Compute cosine similarity between the two outputs\n",
    "        cos_sim = nn.functional.cosine_similarity(output1, output2, dim=1)\n",
    "        # Compute the contrastive loss\n",
    "        loss = torch.mean((1 - target) * torch.pow(cos_sim, 2) +\n",
    "                          target * torch.pow(torch.clamp(self.margin - cos_sim, min=0.0), 2))\n",
    "        return loss\n",
    "\n",
    "# Initialize your model, loss function, and optimizer\n",
    "model = ContrastiveLSTM(input_size=13, hidden_size=128, num_classes=10)\n",
    "criterion = ContrastiveLoss(margin=1.0)\n",
    "optimizer = optim.Adam(model.parameters(), lr=0.001)\n"
   ]
  },
  {
   "cell_type": "code",
   "execution_count": 74,
   "id": "a53d1f70",
   "metadata": {},
   "outputs": [],
   "source": [
    "    num_of_epoch=100\n",
    "    train_losses = []\n",
    "    train_accuracies = []\n",
    "    for epoch in range(num_of_epoch):\n",
    "        running_loss = 0.0\n",
    "        correct = 0\n",
    "        total = 0\n",
    "        for i, (input1, input2, target) in enumerate(aug_test_loader):\n",
    "            optimizer.zero_grad()\n",
    "            output1, output1_softmax = model(input1)\n",
    "            output2, output2_softmax = model(input2)\n",
    "            loss = criterion(output1, output2, target)\n",
    "            loss.backward()\n",
    "            optimizer.step()\n",
    "            running_loss += loss.item()\n",
    "            _, predicted1 = torch.max(output1_softmax.data, 1)\n",
    "            _, predicted2 = torch.max(output2_softmax.data, 1)\n",
    "            total += target.size(0)\n",
    "            correct += (predicted1 == predicted2).sum().item()\n",
    "        accuracy = 100 * correct / total\n",
    "        avg_loss = running_loss / len(aug_test_loader)\n",
    "        train_losses.append(avg_loss)\n",
    "        train_accuracies.append(accuracy)\n",
    "        print('Epoch [{}/{}], Loss: {:.4f}, Accuracy: {:.2f}%'\n",
    "              .format(epoch+1, num_of_epoch, avg_loss, accuracy))\n",
    "    # Plot the loss per epoch\n",
    "    plt.plot(range(1, num_of_epoch+1), train_losses)\n",
    "    plt.title('Training Loss per Epoch')\n",
    "    plt.xlabel('Epoch')\n",
    "    plt.ylabel('Loss')\n",
    "    plt.show()"
   ]
  },
  {
   "cell_type": "markdown",
   "id": "629f6f4f",
   "metadata": {},
   "source": [
    "## testing accuracy"
   ]
  },
  {
   "cell_type": "code",
   "execution_count": 77,
   "id": "de6edfb5",
   "metadata": {},
   "outputs": [],
   "source": [
    "class ContrastiveLoss(nn.Module):\n",
    "    def __init__(self, margin=2.0):\n",
    "        super(ContrastiveLoss, self).__init__()\n",
    "        self.margin = margin\n",
    "\n",
    "    def forward(self, output1, output2, label):\n",
    "        euclidean_distance = F.pairwise_distance(output1, output2)\n",
    "        loss_contrastive = torch.mean((1-label) * torch.pow(euclidean_distance, 2) +\n",
    "                                      (label) * torch.pow(torch.clamp(self.margin - euclidean_distance, min=0.0), 2))\n",
    "        return loss_contrastive\n"
   ]
  },
  {
   "cell_type": "code",
   "execution_count": 79,
   "id": "a5b2b4fe",
   "metadata": {},
   "outputs": [],
   "source": [
    "import torch.optim as optim\n",
    "\n",
    "model = ContrastiveLSTM(input_size=13, hidden_size=128, num_classes=10)  # initialize your model\n",
    "criterion = ContrastiveLoss(margin=1.0, similarity_function=torch.nn.functional.cosine_similarity, temperature=0.5)  # initialize your contrastive loss\n",
    "optimizer = optim.Adam(model.parameters(), lr=0.001)  # initialize your optimizer\n",
    "\n",
    "# training loop\n",
    "for epoch in range(num_epochs):\n",
    "    running_loss = 0.0\n",
    "    for i, data in enumerate(train_loader, 0):\n",
    "        inputs, labels = data  # get your inputs and labels from the data loader\n",
    "        optimizer.zero_grad()  # zero the parameter gradients\n",
    "        outputs = model(inputs)  # forward pass\n",
    "        loss = criterion(outputs, labels)  # compute loss\n",
    "        loss.backward()  # backward pass\n",
    "        optimizer.step()  # optimize the model parameters\n",
    "        running_loss += loss.item()  # accumulate loss\n",
    "        if i % 100 == 99:  # print every 100 mini-batches\n",
    "            print('[%d, %5d] loss: %.3f' %\n",
    "                  (epoch + 1, i + 1, running_loss / 100))\n",
    "            running_loss = 0.0\n",
    "\n",
    "print('Finished Training')\n"
   ]
  }
 ],
 "metadata": {
  "kernelspec": {
   "display_name": "Python 3 (ipykernel)",
   "language": "python",
   "name": "python3"
  },
  "language_info": {
   "codemirror_mode": {
    "name": "ipython",
    "version": 3
   },
   "file_extension": ".py",
   "mimetype": "text/x-python",
   "name": "python",
   "nbconvert_exporter": "python",
   "pygments_lexer": "ipython3",
   "version": "3.9.7"
  }
 },
 "nbformat": 4,
 "nbformat_minor": 5
}
